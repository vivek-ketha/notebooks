{
 "cells": [
  {
   "cell_type": "code",
   "execution_count": 86,
   "id": "d755a231",
   "metadata": {},
   "outputs": [
    {
     "name": "stdout",
     "output_type": "stream",
     "text": [
      "   CustomerID  Frequency  Recency  Monetary\n",
      "0          12          3      150   77183.6\n"
     ]
    }
   ],
   "source": [
    "import pandas as pd\n",
    "\n",
    "CustomerID = 12\n",
    "frequency = 3\n",
    "recency = 150\n",
    "T = 250\n",
    "monetary_value = 77183.60\n",
    "\n",
    "data = {'CustomerID': [CustomerID],\n",
    "        'Frequency': [frequency],\n",
    "        'Recency': [recency],\n",
    "        'Monetary': [monetary_value]}\n",
    "\n",
    "RFMScores_prediction = pd.DataFrame(data)\n",
    "\n",
    "print(RFMScores_prediction)"
   ]
  },
  {
   "cell_type": "code",
   "execution_count": 87,
   "id": "7e950f03",
   "metadata": {},
   "outputs": [
    {
     "name": "stderr",
     "output_type": "stream",
     "text": [
      "C:\\Users\\Vivek Ketha\\anaconda3\\lib\\site-packages\\sklearn\\base.py:450: UserWarning: X does not have valid feature names, but LogisticRegression was fitted with feature names\n",
      "  warnings.warn(\n"
     ]
    },
    {
     "data": {
      "text/plain": [
       "4"
      ]
     },
     "execution_count": 87,
     "metadata": {},
     "output_type": "execute_result"
    }
   ],
   "source": [
    "import joblib\n",
    "from sklearn.linear_model import LogisticRegression\n",
    "\n",
    "# Load the saved model\n",
    "model = joblib.load('Recency_model.joblib')\n",
    "\n",
    "# Use the loaded model to make predictions\n",
    "X_new = [[recency]]\n",
    "y_pred = model.predict(X_new)\n",
    "R=y_pred[0]\n",
    "R\n"
   ]
  },
  {
   "cell_type": "code",
   "execution_count": null,
   "id": "aa34c3ff",
   "metadata": {},
   "outputs": [],
   "source": [
    "model.score(X, y_encoded)"
   ]
  },
  {
   "cell_type": "code",
   "execution_count": 88,
   "id": "da643fe7",
   "metadata": {},
   "outputs": [
    {
     "name": "stderr",
     "output_type": "stream",
     "text": [
      "C:\\Users\\Vivek Ketha\\anaconda3\\lib\\site-packages\\sklearn\\base.py:450: UserWarning: X does not have valid feature names, but LogisticRegression was fitted with feature names\n",
      "  warnings.warn(\n"
     ]
    },
    {
     "data": {
      "text/plain": [
       "4"
      ]
     },
     "execution_count": 88,
     "metadata": {},
     "output_type": "execute_result"
    }
   ],
   "source": [
    "import joblib\n",
    "from sklearn.linear_model import LogisticRegression\n",
    "\n",
    "# Load the saved model\n",
    "model = joblib.load('Frequency_model.joblib')\n",
    "\n",
    "# Use the loaded model to make predictions\n",
    "X_new = [[frequency]]\n",
    "y_pred = model.predict(X_new)\n",
    "F=y_pred[0]\n",
    "F\n"
   ]
  },
  {
   "cell_type": "code",
   "execution_count": 89,
   "id": "5ff59e71",
   "metadata": {},
   "outputs": [
    {
     "name": "stderr",
     "output_type": "stream",
     "text": [
      "C:\\Users\\Vivek Ketha\\anaconda3\\lib\\site-packages\\sklearn\\base.py:450: UserWarning: X does not have valid feature names, but LogisticRegression was fitted with feature names\n",
      "  warnings.warn(\n"
     ]
    },
    {
     "data": {
      "text/plain": [
       "1"
      ]
     },
     "execution_count": 89,
     "metadata": {},
     "output_type": "execute_result"
    }
   ],
   "source": [
    "import joblib\n",
    "from sklearn.linear_model import LogisticRegression\n",
    "\n",
    "# Load the saved model\n",
    "model = joblib.load('Monetary_model.joblib')\n",
    "\n",
    "# Use the loaded model to make predictions\n",
    "X_new = [[monetary_value]]\n",
    "y_pred = model.predict(X_new)\n",
    "M=y_pred[0]\n",
    "M"
   ]
  },
  {
   "cell_type": "code",
   "execution_count": 102,
   "id": "29ef976b",
   "metadata": {},
   "outputs": [
    {
     "data": {
      "text/plain": [
       "3"
      ]
     },
     "execution_count": 102,
     "metadata": {},
     "output_type": "execute_result"
    }
   ],
   "source": [
    "import joblib\n",
    "from sklearn.linear_model import LogisticRegression\n",
    "\n",
    "# Load the saved model\n",
    "model = joblib.load('RFM_Loyalty_Level_model.joblib')\n",
    "\n",
    "# Use the loaded model to make predictions\n",
    "X_new = [[9]]\n",
    "y_pred = model.predict(X_new)\n",
    "M=y_pred[0]\n",
    "M"
   ]
  },
  {
   "cell_type": "code",
   "execution_count": 91,
   "id": "e0408115",
   "metadata": {},
   "outputs": [
    {
     "name": "stdout",
     "output_type": "stream",
     "text": [
      "   CustomerID  Frequency  Recency  Monetary  R  F  M\n",
      "0          12          3      150   77183.6  4  4  3\n"
     ]
    }
   ],
   "source": [
    "data = {'CustomerID': [CustomerID],\n",
    "        'Frequency': [frequency],\n",
    "        'Recency': [recency],\n",
    "        'Monetary': [monetary_value],\n",
    "       'R':[R],\n",
    "       'F':[F],\n",
    "       'M':[M]}\n",
    "\n",
    "RFMScores_prediction = pd.DataFrame(data)\n",
    "\n",
    "print(RFMScores_prediction)"
   ]
  },
  {
   "cell_type": "code",
   "execution_count": null,
   "id": "412d84a3",
   "metadata": {},
   "outputs": [],
   "source": []
  },
  {
   "cell_type": "code",
   "execution_count": 92,
   "id": "d9fc9b4b",
   "metadata": {},
   "outputs": [
    {
     "data": {
      "text/html": [
       "<div>\n",
       "<style scoped>\n",
       "    .dataframe tbody tr th:only-of-type {\n",
       "        vertical-align: middle;\n",
       "    }\n",
       "\n",
       "    .dataframe tbody tr th {\n",
       "        vertical-align: top;\n",
       "    }\n",
       "\n",
       "    .dataframe thead th {\n",
       "        text-align: right;\n",
       "    }\n",
       "</style>\n",
       "<table border=\"1\" class=\"dataframe\">\n",
       "  <thead>\n",
       "    <tr style=\"text-align: right;\">\n",
       "      <th></th>\n",
       "      <th>CustomerID</th>\n",
       "      <th>Frequency</th>\n",
       "      <th>Recency</th>\n",
       "      <th>Monetary</th>\n",
       "      <th>R</th>\n",
       "      <th>F</th>\n",
       "      <th>M</th>\n",
       "      <th>RFMGroup</th>\n",
       "      <th>RFMScore</th>\n",
       "    </tr>\n",
       "  </thead>\n",
       "  <tbody>\n",
       "    <tr>\n",
       "      <th>0</th>\n",
       "      <td>12</td>\n",
       "      <td>3</td>\n",
       "      <td>150</td>\n",
       "      <td>77183.6</td>\n",
       "      <td>4</td>\n",
       "      <td>4</td>\n",
       "      <td>3</td>\n",
       "      <td>443</td>\n",
       "      <td>11</td>\n",
       "    </tr>\n",
       "  </tbody>\n",
       "</table>\n",
       "</div>"
      ],
      "text/plain": [
       "   CustomerID  Frequency  Recency  Monetary  R  F  M RFMGroup  RFMScore\n",
       "0          12          3      150   77183.6  4  4  3      443        11"
      ]
     },
     "execution_count": 92,
     "metadata": {},
     "output_type": "execute_result"
    }
   ],
   "source": [
    "#Calculate and Add RFMGroup value column showing combined concatenated score of RFM\n",
    "RFMScores_prediction['RFMGroup'] = RFMScores_prediction.R.map(str) + RFMScores_prediction.F.map(str) + RFMScores_prediction.M.map(str)\n",
    "\n",
    "#Calculate and Add RFMScore value column showing total sum of RFMGroup values\n",
    "RFMScores_prediction['RFMScore'] = RFMScores_prediction[['R', 'F', 'M']].sum(axis = 1)\n",
    "RFMScores_prediction"
   ]
  },
  {
   "cell_type": "code",
   "execution_count": 93,
   "id": "05956896",
   "metadata": {},
   "outputs": [],
   "source": [
    "RFMScore=RFMScores_prediction['RFMScore']"
   ]
  },
  {
   "cell_type": "code",
   "execution_count": 94,
   "id": "face0f63",
   "metadata": {},
   "outputs": [],
   "source": [
    "RFMScore=RFMScore[0]\n"
   ]
  },
  {
   "cell_type": "code",
   "execution_count": 95,
   "id": "29666786",
   "metadata": {},
   "outputs": [
    {
     "data": {
      "text/plain": [
       "11"
      ]
     },
     "execution_count": 95,
     "metadata": {},
     "output_type": "execute_result"
    }
   ],
   "source": [
    "RFMScore"
   ]
  },
  {
   "cell_type": "code",
   "execution_count": 96,
   "id": "acb9eabe",
   "metadata": {},
   "outputs": [],
   "source": [
    "# RFMScores=pd.read_csv('RFMScores.csv')"
   ]
  },
  {
   "cell_type": "code",
   "execution_count": 113,
   "id": "fb7fa6f1",
   "metadata": {},
   "outputs": [
    {
     "data": {
      "text/html": [
       "<div>\n",
       "<style scoped>\n",
       "    .dataframe tbody tr th:only-of-type {\n",
       "        vertical-align: middle;\n",
       "    }\n",
       "\n",
       "    .dataframe tbody tr th {\n",
       "        vertical-align: top;\n",
       "    }\n",
       "\n",
       "    .dataframe thead th {\n",
       "        text-align: right;\n",
       "    }\n",
       "</style>\n",
       "<table border=\"1\" class=\"dataframe\">\n",
       "  <thead>\n",
       "    <tr style=\"text-align: right;\">\n",
       "      <th></th>\n",
       "      <th>CustomerID</th>\n",
       "      <th>Recency</th>\n",
       "      <th>Frequency</th>\n",
       "      <th>Monetary</th>\n",
       "      <th>R</th>\n",
       "      <th>F</th>\n",
       "      <th>M</th>\n",
       "      <th>RFMGroup</th>\n",
       "      <th>RFMScore</th>\n",
       "      <th>RFM_Loyalty_Level</th>\n",
       "      <th>Cluster</th>\n",
       "      <th>Color</th>\n",
       "    </tr>\n",
       "  </thead>\n",
       "  <tbody>\n",
       "    <tr>\n",
       "      <th>0</th>\n",
       "      <td>12346.0</td>\n",
       "      <td>325</td>\n",
       "      <td>1</td>\n",
       "      <td>77183.60</td>\n",
       "      <td>4</td>\n",
       "      <td>4</td>\n",
       "      <td>1</td>\n",
       "      <td>441</td>\n",
       "      <td>9</td>\n",
       "      <td>Silver</td>\n",
       "      <td>2</td>\n",
       "      <td>blue</td>\n",
       "    </tr>\n",
       "    <tr>\n",
       "      <th>1</th>\n",
       "      <td>12747.0</td>\n",
       "      <td>2</td>\n",
       "      <td>103</td>\n",
       "      <td>4196.01</td>\n",
       "      <td>1</td>\n",
       "      <td>1</td>\n",
       "      <td>1</td>\n",
       "      <td>111</td>\n",
       "      <td>3</td>\n",
       "      <td>Platinum</td>\n",
       "      <td>0</td>\n",
       "      <td>red</td>\n",
       "    </tr>\n",
       "    <tr>\n",
       "      <th>2</th>\n",
       "      <td>12748.0</td>\n",
       "      <td>1</td>\n",
       "      <td>4596</td>\n",
       "      <td>33719.73</td>\n",
       "      <td>1</td>\n",
       "      <td>1</td>\n",
       "      <td>1</td>\n",
       "      <td>111</td>\n",
       "      <td>3</td>\n",
       "      <td>Platinum</td>\n",
       "      <td>0</td>\n",
       "      <td>red</td>\n",
       "    </tr>\n",
       "    <tr>\n",
       "      <th>3</th>\n",
       "      <td>12749.0</td>\n",
       "      <td>3</td>\n",
       "      <td>199</td>\n",
       "      <td>4090.88</td>\n",
       "      <td>1</td>\n",
       "      <td>1</td>\n",
       "      <td>1</td>\n",
       "      <td>111</td>\n",
       "      <td>3</td>\n",
       "      <td>Platinum</td>\n",
       "      <td>0</td>\n",
       "      <td>red</td>\n",
       "    </tr>\n",
       "    <tr>\n",
       "      <th>4</th>\n",
       "      <td>12820.0</td>\n",
       "      <td>3</td>\n",
       "      <td>59</td>\n",
       "      <td>942.34</td>\n",
       "      <td>1</td>\n",
       "      <td>2</td>\n",
       "      <td>2</td>\n",
       "      <td>122</td>\n",
       "      <td>5</td>\n",
       "      <td>Platinum</td>\n",
       "      <td>0</td>\n",
       "      <td>red</td>\n",
       "    </tr>\n",
       "    <tr>\n",
       "      <th>...</th>\n",
       "      <td>...</td>\n",
       "      <td>...</td>\n",
       "      <td>...</td>\n",
       "      <td>...</td>\n",
       "      <td>...</td>\n",
       "      <td>...</td>\n",
       "      <td>...</td>\n",
       "      <td>...</td>\n",
       "      <td>...</td>\n",
       "      <td>...</td>\n",
       "      <td>...</td>\n",
       "      <td>...</td>\n",
       "    </tr>\n",
       "    <tr>\n",
       "      <th>3916</th>\n",
       "      <td>18280.0</td>\n",
       "      <td>277</td>\n",
       "      <td>10</td>\n",
       "      <td>180.60</td>\n",
       "      <td>4</td>\n",
       "      <td>4</td>\n",
       "      <td>4</td>\n",
       "      <td>444</td>\n",
       "      <td>12</td>\n",
       "      <td>Bronze</td>\n",
       "      <td>1</td>\n",
       "      <td>green</td>\n",
       "    </tr>\n",
       "    <tr>\n",
       "      <th>3917</th>\n",
       "      <td>18281.0</td>\n",
       "      <td>180</td>\n",
       "      <td>7</td>\n",
       "      <td>80.82</td>\n",
       "      <td>4</td>\n",
       "      <td>4</td>\n",
       "      <td>4</td>\n",
       "      <td>444</td>\n",
       "      <td>12</td>\n",
       "      <td>Bronze</td>\n",
       "      <td>1</td>\n",
       "      <td>green</td>\n",
       "    </tr>\n",
       "    <tr>\n",
       "      <th>3918</th>\n",
       "      <td>18282.0</td>\n",
       "      <td>7</td>\n",
       "      <td>12</td>\n",
       "      <td>178.05</td>\n",
       "      <td>1</td>\n",
       "      <td>4</td>\n",
       "      <td>4</td>\n",
       "      <td>144</td>\n",
       "      <td>9</td>\n",
       "      <td>Silver</td>\n",
       "      <td>1</td>\n",
       "      <td>green</td>\n",
       "    </tr>\n",
       "    <tr>\n",
       "      <th>3919</th>\n",
       "      <td>18283.0</td>\n",
       "      <td>3</td>\n",
       "      <td>756</td>\n",
       "      <td>2094.88</td>\n",
       "      <td>1</td>\n",
       "      <td>1</td>\n",
       "      <td>1</td>\n",
       "      <td>111</td>\n",
       "      <td>3</td>\n",
       "      <td>Platinum</td>\n",
       "      <td>0</td>\n",
       "      <td>red</td>\n",
       "    </tr>\n",
       "    <tr>\n",
       "      <th>3920</th>\n",
       "      <td>18287.0</td>\n",
       "      <td>42</td>\n",
       "      <td>70</td>\n",
       "      <td>1837.28</td>\n",
       "      <td>2</td>\n",
       "      <td>2</td>\n",
       "      <td>1</td>\n",
       "      <td>221</td>\n",
       "      <td>5</td>\n",
       "      <td>Platinum</td>\n",
       "      <td>2</td>\n",
       "      <td>blue</td>\n",
       "    </tr>\n",
       "  </tbody>\n",
       "</table>\n",
       "<p>3921 rows × 12 columns</p>\n",
       "</div>"
      ],
      "text/plain": [
       "      CustomerID  Recency  Frequency  Monetary  R  F  M  RFMGroup  RFMScore  \\\n",
       "0        12346.0      325          1  77183.60  4  4  1       441         9   \n",
       "1        12747.0        2        103   4196.01  1  1  1       111         3   \n",
       "2        12748.0        1       4596  33719.73  1  1  1       111         3   \n",
       "3        12749.0        3        199   4090.88  1  1  1       111         3   \n",
       "4        12820.0        3         59    942.34  1  2  2       122         5   \n",
       "...          ...      ...        ...       ... .. .. ..       ...       ...   \n",
       "3916     18280.0      277         10    180.60  4  4  4       444        12   \n",
       "3917     18281.0      180          7     80.82  4  4  4       444        12   \n",
       "3918     18282.0        7         12    178.05  1  4  4       144         9   \n",
       "3919     18283.0        3        756   2094.88  1  1  1       111         3   \n",
       "3920     18287.0       42         70   1837.28  2  2  1       221         5   \n",
       "\n",
       "     RFM_Loyalty_Level  Cluster  Color  \n",
       "0               Silver        2   blue  \n",
       "1             Platinum        0    red  \n",
       "2             Platinum        0    red  \n",
       "3             Platinum        0    red  \n",
       "4             Platinum        0    red  \n",
       "...                ...      ...    ...  \n",
       "3916            Bronze        1  green  \n",
       "3917            Bronze        1  green  \n",
       "3918            Silver        1  green  \n",
       "3919          Platinum        0    red  \n",
       "3920          Platinum        2   blue  \n",
       "\n",
       "[3921 rows x 12 columns]"
      ]
     },
     "execution_count": 113,
     "metadata": {},
     "output_type": "execute_result"
    }
   ],
   "source": [
    "RFMScores\n"
   ]
  },
  {
   "cell_type": "code",
   "execution_count": 114,
   "id": "2095ea1e",
   "metadata": {},
   "outputs": [
    {
     "data": {
      "text/plain": [
       "'Bronze'"
      ]
     },
     "execution_count": 114,
     "metadata": {},
     "output_type": "execute_result"
    }
   ],
   "source": [
    "import pandas as pd\n",
    "import numpy as np\n",
    "from sklearn.linear_model import LogisticRegression\n",
    "from sklearn.preprocessing import LabelEncoder\n",
    "import joblib\n",
    "# Input data\n",
    "X = RFMScores['RFMScore']\n",
    "X = np.array(X).reshape(-1, 1)\n",
    "\n",
    "# Target data with categorical values\n",
    "y = RFMScores['RFM_Loyalty_Level']\n",
    "\n",
    "# Use label encoding to convert categorical data into numerical data\n",
    "encoder = LabelEncoder()\n",
    "y_encoded = encoder.fit_transform(y)\n",
    "\n",
    "# Train a logistic regression model\n",
    "model = LogisticRegression().fit(X, y_encoded)\n",
    "\n",
    "# # Save the model to a file\n",
    "# joblib.dump(model, 'RFM_Loyalty_Level_model.joblib')\n",
    "# joblib.dump(y_encoded, 'label_encoder.joblib')\n",
    "\n",
    "# Use the model to make predictions\n",
    "X_new = [[RFMScore]]\n",
    "X_new = np.array(X_new).reshape(-1, 1)\n",
    "y_pred = model.predict(X_new)\n",
    "\n",
    "# Convert the predicted numerical values back to categorical values\n",
    "y_pred_categorical = encoder.inverse_transform(y_pred)\n",
    "y_pred_categorical[0]\n",
    "\n"
   ]
  },
  {
   "cell_type": "code",
   "execution_count": 111,
   "id": "9fe321d6",
   "metadata": {},
   "outputs": [
    {
     "data": {
      "text/plain": [
       "1.0"
      ]
     },
     "execution_count": 111,
     "metadata": {},
     "output_type": "execute_result"
    }
   ],
   "source": [
    "model.score(X, y_encoded)"
   ]
  },
  {
   "cell_type": "code",
   "execution_count": 107,
   "id": "7d44a9fb",
   "metadata": {},
   "outputs": [
    {
     "data": {
      "text/plain": [
       "'Bronze'"
      ]
     },
     "execution_count": 107,
     "metadata": {},
     "output_type": "execute_result"
    }
   ],
   "source": [
    "import joblib\n",
    "from sklearn.linear_model import LogisticRegression\n",
    "\n",
    "# Load the saved model\n",
    "model = joblib.load('RFM_Loyalty_Level_model.joblib')\n",
    "le = joblib.load('label_encoder.joblib')\n",
    "# Use the loaded model to make predictions\n",
    "X_new = [[12]]\n",
    "y_pred = model.predict(X_new)\n",
    "M=y_pred[0]\n",
    "M\n",
    "\n",
    "# Convert the predicted numerical values back to categorical values\n",
    "y_pred_categorical = encoder.inverse_transform(y_pred)\n",
    "y_pred_categorical[0]\n",
    "                 "
   ]
  },
  {
   "cell_type": "code",
   "execution_count": 98,
   "id": "2e63087f",
   "metadata": {},
   "outputs": [
    {
     "name": "stdout",
     "output_type": "stream",
     "text": [
      "   Feature 1  Feature 2\n",
      "0          1         10\n",
      "1          2         20\n",
      "2          3         30\n",
      "3          4         40\n",
      "4          5         50\n"
     ]
    },
    {
     "data": {
      "text/plain": [
       "array(['A', 'A', 'A'], dtype='<U1')"
      ]
     },
     "execution_count": 98,
     "metadata": {},
     "output_type": "execute_result"
    }
   ],
   "source": [
    "import pandas as pd\n",
    "from sklearn.linear_model import LogisticRegression\n",
    "from sklearn.preprocessing import LabelEncoder\n",
    "\n",
    "# Input data\n",
    "X = pd.DataFrame({'Feature 1': [1, 2, 3, 4, 5],\n",
    "                  'Feature 2': [10, 20, 30, 40, 50]})\n",
    "print(X)\n",
    "# Target data with categorical values\n",
    "y = ['A', 'B', 'A', 'B', 'A']\n",
    "\n",
    "# Use label encoding to convert categorical data into numerical data\n",
    "encoder = LabelEncoder()\n",
    "y_encoded = encoder.fit_transform(y)\n",
    "\n",
    "# Train a logistic regression model\n",
    "model = LogisticRegression().fit(X, y_encoded)\n",
    "\n",
    "# Use the model to make predictions\n",
    "X_new = pd.DataFrame({'Feature 1': [6, 7, 8],\n",
    "                      'Feature 2': [60, 70, 80]})\n",
    "y_pred = model.predict(X_new)\n",
    "\n",
    "# Convert the predicted numerical values back to categorical values\n",
    "y_pred_categorical = encoder.inverse_transform(y_pred)\n",
    "y_pred_categorical"
   ]
  },
  {
   "cell_type": "code",
   "execution_count": 99,
   "id": "4c9c5232",
   "metadata": {},
   "outputs": [
    {
     "data": {
      "text/plain": [
       "array(['A'], dtype='<U1')"
      ]
     },
     "execution_count": 99,
     "metadata": {},
     "output_type": "execute_result"
    }
   ],
   "source": [
    "import pandas as pd\n",
    "import numpy as np\n",
    "from sklearn.linear_model import LogisticRegression\n",
    "from sklearn.preprocessing import LabelEncoder\n",
    "\n",
    "# Input data\n",
    "X = [1, 2, 3, 4, 5]\n",
    "X = np.array(X).reshape(-1, 1)\n",
    "\n",
    "# Target data with categorical values\n",
    "y = ['A', 'B', 'A', 'B', 'A']\n",
    "\n",
    "# Use label encoding to convert categorical data into numerical data\n",
    "encoder = LabelEncoder()\n",
    "y_encoded = encoder.fit_transform(y)\n",
    "\n",
    "# Train a logistic regression model\n",
    "model = LogisticRegression().fit(X, y_encoded)\n",
    "\n",
    "# Use the model to make predictions\n",
    "X_new = [6]\n",
    "X_new = np.array(X_new).reshape(-1, 1)\n",
    "y_pred = model.predict(X_new)\n",
    "\n",
    "# Convert the predicted numerical values back to categorical values\n",
    "y_pred_categorical = encoder.inverse_transform(y_pred)\n",
    "y_pred_categorical\n"
   ]
  },
  {
   "cell_type": "code",
   "execution_count": null,
   "id": "d816d7c4",
   "metadata": {},
   "outputs": [],
   "source": []
  }
 ],
 "metadata": {
  "kernelspec": {
   "display_name": "Python 3 (ipykernel)",
   "language": "python",
   "name": "python3"
  },
  "language_info": {
   "codemirror_mode": {
    "name": "ipython",
    "version": 3
   },
   "file_extension": ".py",
   "mimetype": "text/x-python",
   "name": "python",
   "nbconvert_exporter": "python",
   "pygments_lexer": "ipython3",
   "version": "3.9.13"
  }
 },
 "nbformat": 4,
 "nbformat_minor": 5
}
